{
 "cells": [
  {
   "cell_type": "code",
   "execution_count": null,
   "metadata": {},
   "outputs": [],
   "source": [
    "import numpy as np\n",
    "\n",
    "from mesa import Agent, Model\n",
    "from mesa.space import Grid\n",
    "from mesa.datacollection import DataCollector\n",
    "from mesa.time import SimultaneousActivation\n",
    "import matplotlib.pyplot as plt\n",
    "from mesa.visualization.modules import CanvasGrid, ChartModule\n",
    "from mesa.visualization.ModularVisualization import ModularServer"
   ]
  },
  {
   "cell_type": "markdown",
   "metadata": {},
   "source": [
    "# Helper functions"
   ]
  },
  {
   "cell_type": "code",
   "execution_count": null,
   "metadata": {},
   "outputs": [],
   "source": [
    "def get_sus(model):\n",
    "    state = 0\n",
    "    for (contents, i, j) in model.grid.coord_iter():\n",
    "        if contents.state == 'susceptible':\n",
    "            state += 1\n",
    "    return state\n",
    "\n",
    "def get_inf(model):\n",
    "    state = 0\n",
    "    for (contents, i, j) in model.grid.coord_iter():\n",
    "        if contents.state == 'infected':\n",
    "            state += 1\n",
    "    return state\n",
    "\n",
    "def get_rec(model):\n",
    "    state = 0\n",
    "    for (contents, i, j) in model.grid.coord_iter():\n",
    "        if contents.state == 'recovered':\n",
    "            state += 1\n",
    "    return state"
   ]
  },
  {
   "cell_type": "markdown",
   "metadata": {},
   "source": [
    "# Cellular Automaton class"
   ]
  },
  {
   "cell_type": "code",
   "execution_count": null,
   "metadata": {},
   "outputs": [],
   "source": [
    "class CellularAutomaton(Model):\n",
    "    \n",
    "    def __init__(\n",
    "        self,\n",
    "        height = 50,\n",
    "        width = 50,\n",
    "        p = 0.2,\n",
    "        q = 0.3,\n",
    "        s = 0\n",
    "    ):\n",
    "        self.height = height\n",
    "        self.width = width\n",
    "        \n",
    "        self.p = p\n",
    "        self.q = q\n",
    "        self.s = s\n",
    "        \n",
    "        self.schedule = SimultaneousActivation(self)\n",
    "        self.grid = Grid(self.width, self.height, torus=False)\n",
    "\n",
    "        self.datacollector = DataCollector(\n",
    "            model_reporters =  {\n",
    "                \"sus\": get_sus,\n",
    "                \"inf\": get_inf,\n",
    "                \"rec\": get_rec\n",
    "                }\n",
    "            )\n",
    "\n",
    "        for (contents, i, j) in self.grid.coord_iter():\n",
    "            FSM = FiniteStateMachine((i,j), self)\n",
    "            if np.random.random() < 0.005:\n",
    "                FSM.state = \"infected\"\n",
    "            self.grid.place_agent(FSM, (i,j))\n",
    "            self.schedule.add(FSM)\n",
    "\n",
    "        self.running = True\n",
    "        self.datacollector.collect(self)\n",
    "\n",
    "    def step(self):\n",
    "        self.schedule.step()\n",
    "        self.datacollector.collect(self)\n",
    "\n",
    "    def run(self, n):\n",
    "        for _ in range(n):\n",
    "            self.step()"
   ]
  },
  {
   "cell_type": "markdown",
   "metadata": {},
   "source": [
    "# Finite State Machine class"
   ]
  },
  {
   "cell_type": "code",
   "execution_count": null,
   "metadata": {},
   "outputs": [],
   "source": [
    "class FiniteStateMachine(Agent):\n",
    "    def __init__(self, pos, model):\n",
    "        super().__init__(pos, model)\n",
    "        self.x, self.y = pos\n",
    "\n",
    "        self.state = \"susceptible\"\n",
    "        self._nextState = None\n",
    "        self.counter = 0\n",
    "\n",
    "    def step(self):\n",
    "        neighbors = self.model.grid.get_neighbors((self.x,self.y), True)\n",
    "        \n",
    "        R = sum([1 for neighbor in neighbors if neighbor.state == \"infected\"])\n",
    "        \n",
    "        if self.state == \"susceptible\":\n",
    "            if np.random.random() < 1 - (1 - self.model.p)**R:\n",
    "                self._nextState = \"infected\"\n",
    "            else:\n",
    "                self._nextState = \"susceptible\"\n",
    "        elif self.state == \"infected\":\n",
    "            if np.random.random() < self.model.q:\n",
    "                self._nextState = \"recovered\"\n",
    "            else:\n",
    "                self._nextState = \"infected\"\n",
    "        else:\n",
    "            self.counter += 1\n",
    "            if self.counter > 4 and np.random.random() < self.model.s:\n",
    "                self.counter = 0\n",
    "                self._nextState = \"susceptible\"\n",
    "            else:\n",
    "                self._nextState = \"recovered\"\n",
    "        \n",
    "    def advance(self):\n",
    "        self.state = self._nextState"
   ]
  },
  {
   "cell_type": "markdown",
   "metadata": {},
   "source": [
    "# Manually run model"
   ]
  },
  {
   "cell_type": "code",
   "execution_count": null,
   "metadata": {},
   "outputs": [],
   "source": [
    "model = CellularAutomaton()\n",
    "\n",
    "model.run(30)\n",
    "    \n",
    "df = model.datacollector.get_model_vars_dataframe()\n",
    "df.plot()"
   ]
  },
  {
   "cell_type": "markdown",
   "metadata": {},
   "source": [
    "# MESA server"
   ]
  },
  {
   "cell_type": "code",
   "execution_count": null,
   "metadata": {},
   "outputs": [],
   "source": [
    "def portrayCell(fsm):\n",
    "    assert fsm is not None\n",
    "    portrayal = {\n",
    "        \"Shape\": \"rect\",\n",
    "        \"w\":1,\n",
    "        \"h\":1,\n",
    "        \"Filled\": \"true\",\n",
    "        \"Layer\": 0,\n",
    "        \"x\": fsm.x,\n",
    "        \"y\": fsm.y,\n",
    "    }\n",
    "    if fsm.state == \"susceptible\":\n",
    "        portrayal[\"Color\"] = \"yellow\"\n",
    "    elif fsm.state == \"infected\":\n",
    "        portrayal[\"Color\"] = \"red\"\n",
    "    else:\n",
    "        portrayal[\"Color\"] = \"white\"\n",
    "\n",
    "    return portrayal\n",
    "\n",
    "chart = ChartModule(\n",
    "    [{\"Label\": \"sus\", \"Color\": \"#AA0000\"},\n",
    "     {\"Label\": \"inf\", \"Color\": \"#00aa1f\"}, \n",
    "     {\"Label\": \"rec\", \"Color\": \"#8500aa\"}],\n",
    "     canvas_height=300, canvas_width=500\n",
    ")\n",
    "\n",
    "SIZE = 50\n",
    "\n",
    "canvas_element = CanvasGrid(portrayCell, SIZE, SIZE, 500, 500 )\n",
    "server = ModularServer(\n",
    "    CellularAutomaton, [canvas_element,chart], \"Epidemic\", {\"height\": SIZE, \"width\":SIZE}\n",
    "    )\n",
    "\n",
    "server.launch()"
   ]
  }
 ],
 "metadata": {
  "kernelspec": {
   "display_name": "Python 3",
   "language": "python",
   "name": "python3"
  },
  "language_info": {
   "codemirror_mode": {
    "name": "ipython",
    "version": 3
   },
   "file_extension": ".py",
   "mimetype": "text/x-python",
   "name": "python",
   "nbconvert_exporter": "python",
   "pygments_lexer": "ipython3",
   "version": "3.7.6"
  }
 },
 "nbformat": 4,
 "nbformat_minor": 4
}
