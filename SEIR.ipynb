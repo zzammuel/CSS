{
 "cells": [
  {
   "cell_type": "markdown",
   "metadata": {},
   "source": [
    "# Modules"
   ]
  },
  {
   "cell_type": "code",
   "execution_count": 1,
   "metadata": {},
   "outputs": [],
   "source": [
    "import numpy as np\n",
    "import matplotlib.cm as cm\n",
    "import matplotlib.pyplot as plt\n",
    "from matplotlib.colors import Normalize, rgb2hex\n",
    "\n",
    "from mesa import Agent, Model\n",
    "from mesa.space import Grid\n",
    "from mesa.datacollection import DataCollector\n",
    "from mesa.time import SimultaneousActivation\n",
    "from mesa.visualization.modules import CanvasGrid, ChartModule\n",
    "from mesa.visualization.ModularVisualization import ModularServer"
   ]
  },
  {
   "cell_type": "markdown",
   "metadata": {},
   "source": [
    "# Helper functions\n",
    "Obtain the sum of the fractions across all FSM's in the CA."
   ]
  },
  {
   "cell_type": "code",
   "execution_count": 2,
   "metadata": {},
   "outputs": [],
   "source": [
    "def get_sus(model):\n",
    "    state = 0\n",
    "    for (contents, i, j) in model.grid.coord_iter():\n",
    "        state += contents.state[0]\n",
    "    return state\n",
    "\n",
    "def get_exp(model):\n",
    "    state = 0\n",
    "    for (contents, i, j) in model.grid.coord_iter():\n",
    "        state += contents.state[1]\n",
    "    return state\n",
    "\n",
    "def get_inf(model):\n",
    "    state = 0\n",
    "    for (contents, i, j) in model.grid.coord_iter():\n",
    "        state += contents.state[2]\n",
    "    return state\n",
    "\n",
    "def get_rec(model):\n",
    "    state = 0\n",
    "    for (contents, i, j) in model.grid.coord_iter():\n",
    "        state += contents.state[3]\n",
    "    return state"
   ]
  },
  {
   "cell_type": "markdown",
   "metadata": {},
   "source": [
    "# CA class\n",
    "* Set all parameters as \"global\" parameters, i.e., all FSMs have the same params.\n",
    "* Set a global time t (days)\n",
    "* Random give some FSMs a state $(0.8, 0, 0.2, 0)$ instead of $(1, 0, 0, 0)$"
   ]
  },
  {
   "cell_type": "code",
   "execution_count": 3,
   "metadata": {},
   "outputs": [],
   "source": [
    "class CellularAutomaton(Model):\n",
    "    \n",
    "    def __init__(\n",
    "        self,\n",
    "        height = 30,\n",
    "        width = 30,\n",
    "        mu = 0.0005, # Birth rate\n",
    "        sig = 1/7,   # Rate of delay\n",
    "        gam = 1/14,  # Rate of recovery\n",
    "        c = 1/2,     # Connection factor between FSM\n",
    "        b0 = 0.25,   # Rate of infection\n",
    "        b1 = 0.2     # Amplitude of seasonality of infection\n",
    "    ):\n",
    "        self.height = height\n",
    "        self.width = width\n",
    "        \n",
    "        self.mu = mu\n",
    "        self.b0 = b0\n",
    "        self.b1 = b1\n",
    "        self.sig = sig\n",
    "        self.gam = gam\n",
    "        self.c = c\n",
    "        \n",
    "        self.t = 0\n",
    "        \n",
    "        self.schedule = SimultaneousActivation(self)\n",
    "        self.grid = Grid(self.width, self.height, torus=False)\n",
    "\n",
    "        self.datacollector = DataCollector(\n",
    "            model_reporters =  {\n",
    "                \"sus\": get_sus,\n",
    "                \"exp\": get_exp,\n",
    "                \"inf\": get_inf,\n",
    "                \"rec\": get_rec\n",
    "                }\n",
    "            )\n",
    "        \n",
    "        np.random.seed(0)\n",
    "        for (contents, i, j) in self.grid.coord_iter():\n",
    "            FSM = FSM_SEIR((i,j), self)\n",
    "            if np.random.random() < 0.005:\n",
    "                FSM.state = [0]*4\n",
    "                FSM.state[0] = 0.8\n",
    "                FSM.state[2] = 0.2\n",
    "            else:\n",
    "                FSM.state = [0]*4\n",
    "                FSM.state[0] = 1\n",
    "            self.grid.place_agent(FSM, (i,j))\n",
    "            self.schedule.add(FSM)\n",
    "\n",
    "        self.running = True\n",
    "        self.datacollector.collect(self)\n",
    "\n",
    "    def step(self):\n",
    "        self.t += 1\n",
    "        self.schedule.step()\n",
    "        self.datacollector.collect(self)\n",
    "\n",
    "    def run(self, n):\n",
    "        for _ in range(n):\n",
    "            self.step()"
   ]
  },
  {
   "cell_type": "markdown",
   "metadata": {},
   "source": [
    "# FSM class\n",
    "\n",
    "* States: $(S, I, E, R)$, where each of the attributes is a fraction of the form $\\frac{n}{10000}, \\quad n \\in \\mathbb{N}$. It follows that each FSM has $10001^4$ different states it can attain.\n",
    "* Transition function:\n",
    "$$ S_{i,j}^{t+1} = S_{i,j}^t - \\beta(t) S_{i,j}^tI_{i,j}^t - c\\beta(t)\\sum_{k,l} I_{k,l}^t S_{i,j}^t + \\mu (1 - S_{i,j}^t), $$\n",
    "$$ E_{i,j}^{t+1} = E_{i,j}^t + \\beta(t) S_{i,j}^tI_{i,j}^t + c\\beta(t)\\sum_{k,l} I_{k,l}^t S_{i,j}^t - \\sigma E_{i,j}^t - \\mu E_{i,j}^t,$$\n",
    "$$ I_{i,j}^{t+1} = I_{i,j}^t + \\sigma E_{i,j}^t - \\gamma  I_{i,j}^t - \\mu * I_{i,j}^t, $$\n",
    "$$ R_{i,j}^{t+1} = R_{i,j}^t + \\gamma I_{i,j}^t - \\mu R_{i,j}^t, $$\n",
    "where $\\beta(t) = \\beta_0 (1 + \\beta_1\\cos(\\omega t))$."
   ]
  },
  {
   "cell_type": "code",
   "execution_count": 4,
   "metadata": {},
   "outputs": [],
   "source": [
    "# Stau, Etau, Itau, Rtau = self.state[self.model.tau-1,:]\n",
    "# + np.exp(- self.model.mu * self.model.tau) * (self.model.lam * Stau * Itau + sum([self.model.lam * self.model.m * x.state[self.model.tau-1,2] * Stau for x in neighbors]))\n",
    "# self._nextState[1:,:] = self.state[:self.model.tau-1,:]\n",
    "# self._nextState[0,:] = [S, E, I, R]"
   ]
  },
  {
   "cell_type": "code",
   "execution_count": 5,
   "metadata": {},
   "outputs": [],
   "source": [
    "class FSM_SEIR(Agent):\n",
    "    def __init__(self, pos, model):\n",
    "        super().__init__(pos, model)\n",
    "        self.x, self.y = pos\n",
    "\n",
    "        self.state = None\n",
    "        self._nextState = None\n",
    "        self.counter = 0\n",
    "\n",
    "    def step(self):\n",
    "        neighbors = self.model.grid.get_neighbors((self.x,self.y), True)\n",
    "        \n",
    "        S,E,I,R = self.state\n",
    "        \n",
    "        beta = self.model.b0 * (1 + self.model.b1 * np.cos(2 * np.pi / 365 * self.model.t))\n",
    "        \n",
    "        Snew = S - beta * S * I - sum([self.model.c * beta * x.state[2] * S for x in neighbors]) + self.model.mu * (1 - S)\n",
    "        Enew = E + beta * S * I + sum([self.model.c * beta * x.state[2] * S for x in neighbors]) - E * self.model.sig - self.model.mu * E\n",
    "        Inew = I + E * self.model.sig - I * self.model.gam - self.model.mu * I\n",
    "        Rnew = R + I * self.model.gam - self.model.mu*R\n",
    "        \n",
    "        n = 4 \n",
    "        \n",
    "        # Map to state space\n",
    "        S = round(10**n*Snew)/10**n\n",
    "        E = round(10**n*Enew)/10**n\n",
    "        I = round(10**n*Inew)/10**n\n",
    "        R = round(10**n*Rnew)/10**n\n",
    "        \n",
    "        self._nextState = [S, E, I, R]\n",
    "        \n",
    "    def advance(self):\n",
    "        self.state = self._nextState"
   ]
  },
  {
   "cell_type": "markdown",
   "metadata": {},
   "source": [
    "# Run model"
   ]
  },
  {
   "cell_type": "code",
   "execution_count": 6,
   "metadata": {},
   "outputs": [
    {
     "data": {
      "text/plain": [
       "<matplotlib.axes._subplots.AxesSubplot at 0x2f7c5cc9e88>"
      ]
     },
     "execution_count": 6,
     "metadata": {},
     "output_type": "execute_result"
    },
    {
     "data": {
      "image/png": "[encoded data removed]",
      "text/plain": [
       "<Figure size 432x288 with 1 Axes>"
      ]
     },
     "metadata": {
      "needs_background": "light"
     },
     "output_type": "display_data"
    }
   ],
   "source": [
    "model = CellularAutomaton( \n",
    "        height = 30,\n",
    "        width = 30,\n",
    "        mu = 0.001, # Birth rate\n",
    "        sig = 1/8,   # Rate of delay\n",
    "        gam = 1/5,   # Rate of recovery\n",
    "        c = 1/2,     # Connection factor between FSM\n",
    "        b0 = 1,   # Rate of infection\n",
    "        b1 = 0.27     # Amplitude of seasonality of infection\n",
    "                         )\n",
    "\n",
    "model.run(30)\n",
    "    \n",
    "df = model.datacollector.get_model_vars_dataframe()\n",
    "df.plot()"
   ]
  },
  {
   "cell_type": "markdown",
   "metadata": {},
   "source": [
    "# Plot density of infected"
   ]
  },
  {
   "cell_type": "code",
   "execution_count": 7,
   "metadata": {
    "scrolled": false
   },
   "outputs": [
    {
     "data": {
      "image/png": "[encoded data removed]",
      "text/plain": [
       "<Figure size 1080x864 with 2 Axes>"
      ]
     },
     "metadata": {
      "needs_background": "light"
     },
     "output_type": "display_data"
    }
   ],
   "source": [
    "infected = np.zeros((30,30))\n",
    "for (content, i, j) in model.grid.coord_iter():\n",
    "    infected[i,j] = content.state[2]\n",
    "    \n",
    "plt.figure(figsize = (15,12))\n",
    "plt.imshow(infected,cmap = 'Greys')\n",
    "plt.colorbar()\n",
    "plt.show()"
   ]
  },
  {
   "cell_type": "markdown",
   "metadata": {},
   "source": [
    "# MESA server"
   ]
  },
  {
   "cell_type": "code",
   "execution_count": 8,
   "metadata": {
    "scrolled": true
   },
   "outputs": [
    {
     "name": "stdout",
     "output_type": "stream",
     "text": [
      "Interface starting at http://127.0.0.1:8521\n"
     ]
    },
    {
     "ename": "RuntimeError",
     "evalue": "This event loop is already running",
     "output_type": "error",
     "traceback": [
      "\u001b[1;31m---------------------------------------------------------------------------\u001b[0m",
      "\u001b[1;31mRuntimeError\u001b[0m                              Traceback (most recent call last)",
      "\u001b[1;32m<ipython-input-8-5844883d7d4f>\u001b[0m in \u001b[0;36m<module>\u001b[1;34m\u001b[0m\n\u001b[0;32m     48\u001b[0m     )\n\u001b[0;32m     49\u001b[0m \u001b[1;33m\u001b[0m\u001b[0m\n\u001b[1;32m---> 50\u001b[1;33m \u001b[0mserver\u001b[0m\u001b[1;33m.\u001b[0m\u001b[0mlaunch\u001b[0m\u001b[1;33m(\u001b[0m\u001b[1;33m)\u001b[0m\u001b[1;33m\u001b[0m\u001b[1;33m\u001b[0m\u001b[0m\n\u001b[0m",
      "\u001b[1;32mD:\\Anaconda\\lib\\site-packages\\mesa\\visualization\\ModularVisualization.py\u001b[0m in \u001b[0;36mlaunch\u001b[1;34m(self, port, open_browser)\u001b[0m\n\u001b[0;32m    335\u001b[0m             \u001b[0mwebbrowser\u001b[0m\u001b[1;33m.\u001b[0m\u001b[0mopen\u001b[0m\u001b[1;33m(\u001b[0m\u001b[0murl\u001b[0m\u001b[1;33m)\u001b[0m\u001b[1;33m\u001b[0m\u001b[1;33m\u001b[0m\u001b[0m\n\u001b[0;32m    336\u001b[0m         \u001b[0mtornado\u001b[0m\u001b[1;33m.\u001b[0m\u001b[0mautoreload\u001b[0m\u001b[1;33m.\u001b[0m\u001b[0mstart\u001b[0m\u001b[1;33m(\u001b[0m\u001b[1;33m)\u001b[0m\u001b[1;33m\u001b[0m\u001b[1;33m\u001b[0m\u001b[0m\n\u001b[1;32m--> 337\u001b[1;33m         \u001b[0mtornado\u001b[0m\u001b[1;33m.\u001b[0m\u001b[0mioloop\u001b[0m\u001b[1;33m.\u001b[0m\u001b[0mIOLoop\u001b[0m\u001b[1;33m.\u001b[0m\u001b[0mcurrent\u001b[0m\u001b[1;33m(\u001b[0m\u001b[1;33m)\u001b[0m\u001b[1;33m.\u001b[0m\u001b[0mstart\u001b[0m\u001b[1;33m(\u001b[0m\u001b[1;33m)\u001b[0m\u001b[1;33m\u001b[0m\u001b[1;33m\u001b[0m\u001b[0m\n\u001b[0m",
      "\u001b[1;32mD:\\Anaconda\\lib\\site-packages\\tornado\\platform\\asyncio.py\u001b[0m in \u001b[0;36mstart\u001b[1;34m(self)\u001b[0m\n\u001b[0;32m    151\u001b[0m             \u001b[0mself\u001b[0m\u001b[1;33m.\u001b[0m\u001b[0m_setup_logging\u001b[0m\u001b[1;33m(\u001b[0m\u001b[1;33m)\u001b[0m\u001b[1;33m\u001b[0m\u001b[1;33m\u001b[0m\u001b[0m\n\u001b[0;32m    152\u001b[0m             \u001b[0masyncio\u001b[0m\u001b[1;33m.\u001b[0m\u001b[0mset_event_loop\u001b[0m\u001b[1;33m(\u001b[0m\u001b[0mself\u001b[0m\u001b[1;33m.\u001b[0m\u001b[0masyncio_loop\u001b[0m\u001b[1;33m)\u001b[0m\u001b[1;33m\u001b[0m\u001b[1;33m\u001b[0m\u001b[0m\n\u001b[1;32m--> 153\u001b[1;33m             \u001b[0mself\u001b[0m\u001b[1;33m.\u001b[0m\u001b[0masyncio_loop\u001b[0m\u001b[1;33m.\u001b[0m\u001b[0mrun_forever\u001b[0m\u001b[1;33m(\u001b[0m\u001b[1;33m)\u001b[0m\u001b[1;33m\u001b[0m\u001b[1;33m\u001b[0m\u001b[0m\n\u001b[0m\u001b[0;32m    154\u001b[0m         \u001b[1;32mfinally\u001b[0m\u001b[1;33m:\u001b[0m\u001b[1;33m\u001b[0m\u001b[1;33m\u001b[0m\u001b[0m\n\u001b[0;32m    155\u001b[0m             \u001b[0masyncio\u001b[0m\u001b[1;33m.\u001b[0m\u001b[0mset_event_loop\u001b[0m\u001b[1;33m(\u001b[0m\u001b[0mold_loop\u001b[0m\u001b[1;33m)\u001b[0m\u001b[1;33m\u001b[0m\u001b[1;33m\u001b[0m\u001b[0m\n",
      "\u001b[1;32mD:\\Anaconda\\lib\\asyncio\\base_events.py\u001b[0m in \u001b[0;36mrun_forever\u001b[1;34m(self)\u001b[0m\n\u001b[0;32m    523\u001b[0m         \u001b[0mself\u001b[0m\u001b[1;33m.\u001b[0m\u001b[0m_check_closed\u001b[0m\u001b[1;33m(\u001b[0m\u001b[1;33m)\u001b[0m\u001b[1;33m\u001b[0m\u001b[1;33m\u001b[0m\u001b[0m\n\u001b[0;32m    524\u001b[0m         \u001b[1;32mif\u001b[0m \u001b[0mself\u001b[0m\u001b[1;33m.\u001b[0m\u001b[0mis_running\u001b[0m\u001b[1;33m(\u001b[0m\u001b[1;33m)\u001b[0m\u001b[1;33m:\u001b[0m\u001b[1;33m\u001b[0m\u001b[1;33m\u001b[0m\u001b[0m\n\u001b[1;32m--> 525\u001b[1;33m             \u001b[1;32mraise\u001b[0m \u001b[0mRuntimeError\u001b[0m\u001b[1;33m(\u001b[0m\u001b[1;34m'This event loop is already running'\u001b[0m\u001b[1;33m)\u001b[0m\u001b[1;33m\u001b[0m\u001b[1;33m\u001b[0m\u001b[0m\n\u001b[0m\u001b[0;32m    526\u001b[0m         \u001b[1;32mif\u001b[0m \u001b[0mevents\u001b[0m\u001b[1;33m.\u001b[0m\u001b[0m_get_running_loop\u001b[0m\u001b[1;33m(\u001b[0m\u001b[1;33m)\u001b[0m \u001b[1;32mis\u001b[0m \u001b[1;32mnot\u001b[0m \u001b[1;32mNone\u001b[0m\u001b[1;33m:\u001b[0m\u001b[1;33m\u001b[0m\u001b[1;33m\u001b[0m\u001b[0m\n\u001b[0;32m    527\u001b[0m             raise RuntimeError(\n",
      "\u001b[1;31mRuntimeError\u001b[0m: This event loop is already running"
     ]
    },
    {
     "name": "stdout",
     "output_type": "stream",
     "text": [
      "Socket opened!\n",
      "{\"type\":\"reset\"}\n",
      "{\"type\":\"reset\"}\n",
      "{\"type\":\"get_step\",\"step\":1}\n",
      "{\"type\":\"get_step\",\"step\":2}\n",
      "{\"type\":\"get_step\",\"step\":3}\n",
      "{\"type\":\"get_step\",\"step\":4}\n",
      "{\"type\":\"get_step\",\"step\":5}\n",
      "{\"type\":\"get_step\",\"step\":6}\n",
      "{\"type\":\"get_step\",\"step\":7}\n",
      "{\"type\":\"get_step\",\"step\":8}\n",
      "{\"type\":\"get_step\",\"step\":9}\n",
      "{\"type\":\"get_step\",\"step\":10}\n",
      "{\"type\":\"get_step\",\"step\":11}\n",
      "{\"type\":\"get_step\",\"step\":12}\n",
      "{\"type\":\"get_step\",\"step\":13}\n",
      "{\"type\":\"get_step\",\"step\":14}\n",
      "{\"type\":\"get_step\",\"step\":15}\n",
      "{\"type\":\"get_step\",\"step\":16}\n",
      "{\"type\":\"get_step\",\"step\":17}\n",
      "{\"type\":\"get_step\",\"step\":18}\n",
      "{\"type\":\"get_step\",\"step\":19}\n",
      "{\"type\":\"get_step\",\"step\":20}\n",
      "{\"type\":\"get_step\",\"step\":21}\n",
      "{\"type\":\"get_step\",\"step\":22}\n",
      "{\"type\":\"get_step\",\"step\":23}\n",
      "{\"type\":\"get_step\",\"step\":24}\n",
      "{\"type\":\"get_step\",\"step\":25}\n",
      "{\"type\":\"get_step\",\"step\":26}\n",
      "{\"type\":\"get_step\",\"step\":27}\n",
      "{\"type\":\"get_step\",\"step\":28}\n",
      "{\"type\":\"get_step\",\"step\":29}\n",
      "{\"type\":\"get_step\",\"step\":30}\n",
      "{\"type\":\"get_step\",\"step\":31}\n",
      "{\"type\":\"get_step\",\"step\":32}\n",
      "{\"type\":\"get_step\",\"step\":33}\n",
      "{\"type\":\"get_step\",\"step\":34}\n",
      "{\"type\":\"get_step\",\"step\":35}\n",
      "{\"type\":\"get_step\",\"step\":36}\n",
      "{\"type\":\"get_step\",\"step\":37}\n",
      "{\"type\":\"get_step\",\"step\":38}\n",
      "{\"type\":\"get_step\",\"step\":39}\n",
      "{\"type\":\"get_step\",\"step\":40}\n",
      "{\"type\":\"get_step\",\"step\":41}\n",
      "{\"type\":\"get_step\",\"step\":42}\n",
      "{\"type\":\"get_step\",\"step\":43}\n",
      "{\"type\":\"get_step\",\"step\":44}\n",
      "{\"type\":\"get_step\",\"step\":45}\n",
      "{\"type\":\"get_step\",\"step\":46}\n",
      "{\"type\":\"get_step\",\"step\":47}\n",
      "{\"type\":\"get_step\",\"step\":48}\n",
      "{\"type\":\"get_step\",\"step\":49}\n",
      "{\"type\":\"get_step\",\"step\":50}\n",
      "{\"type\":\"get_step\",\"step\":51}\n",
      "{\"type\":\"get_step\",\"step\":52}\n",
      "{\"type\":\"get_step\",\"step\":53}\n",
      "{\"type\":\"get_step\",\"step\":54}\n",
      "{\"type\":\"get_step\",\"step\":55}\n",
      "{\"type\":\"get_step\",\"step\":56}\n",
      "{\"type\":\"get_step\",\"step\":57}\n",
      "{\"type\":\"get_step\",\"step\":58}\n",
      "{\"type\":\"get_step\",\"step\":59}\n",
      "{\"type\":\"reset\"}\n"
     ]
    }
   ],
   "source": [
    "norm = Normalize(vmin=0, vmax = 0.5)\n",
    "cmap = cm.Greys\n",
    "m = cm.ScalarMappable(norm = norm, cmap = cmap)\n",
    "\n",
    "colordict = {}\n",
    "\n",
    "for i in np.linspace(0,1,10001):\n",
    "    k = round(10000*i)/10000\n",
    "    colordict[k] = rgb2hex(m.to_rgba(k))\n",
    "\n",
    "def portrayCell(fsm):\n",
    "    assert fsm is not None\n",
    "    \n",
    "    portrayal = {\n",
    "        \"Shape\": \"rect\",\n",
    "        \"w\":1,\n",
    "        \"h\":1,\n",
    "        \"Filled\": \"true\",\n",
    "        \"Layer\": 0,\n",
    "        \"x\": fsm.x,\n",
    "        \"y\": fsm.y\n",
    "    }\n",
    "    portrayal[\"Color\"] = colordict[fsm.state[2]]\n",
    "    \n",
    "    return portrayal\n",
    "\n",
    "chart = ChartModule(\n",
    "    [{\"Label\": \"sus\", \"Color\": \"#3776ab\"},\n",
    "     {\"Label\": \"exp\", \"Color\": '#ab3776'},\n",
    "     {\"Label\": \"inf\", \"Color\": \"#ab6b37\"}, \n",
    "     {\"Label\": \"rec\", \"Color\": \"#37ab6c\"}],\n",
    "     canvas_height=300, canvas_width=500\n",
    ")\n",
    "\n",
    "SIZE = 50\n",
    "\n",
    "canvas_element = CanvasGrid(portrayCell, SIZE, SIZE, 500, 500 )\n",
    "server = ModularServer(\n",
    "    CellularAutomaton, [canvas_element,chart], \"Epidemic\", {\"height\": SIZE, \n",
    "                                                            \"width\":SIZE,\n",
    "                                                            \"mu\": 0.0005, # Birth rate\n",
    "                                                            \"sig\": 1/8,   # Rate of delay\n",
    "                                                            \"gam\": 1/5,   # Rate of recovery\n",
    "                                                            \"c\": 1/2,     # Connection factor between FSM\n",
    "                                                            \"b0\": 1,      # Rate of infection\n",
    "                                                            \"b1\": 0.2     # Amplitude of seasonality of infection\n",
    "                                                           }\n",
    "    )\n",
    "\n",
    "server.launch()"
   ]
  }
 ],
 "metadata": {
  "kernelspec": {
   "display_name": "Python 3",
   "language": "python",
   "name": "python3"
  },
  "language_info": {
   "codemirror_mode": {
    "name": "ipython",
    "version": 3
   },
   "file_extension": ".py",
   "mimetype": "text/x-python",
   "name": "python",
   "nbconvert_exporter": "python",
   "pygments_lexer": "ipython3",
   "version": "3.7.6"
  }
 },
 "nbformat": 4,
 "nbformat_minor": 4
}
