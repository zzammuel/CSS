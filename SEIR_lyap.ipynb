{
 "cells": [
  {
   "cell_type": "markdown",
   "metadata": {},
   "source": [
    "# Modules"
   ]
  },
  {
   "cell_type": "code",
   "execution_count": 1,
   "metadata": {},
   "outputs": [],
   "source": [
    "from time import time\n",
    "from datetime import timedelta\n",
    "from IPython.display import clear_output\n",
    "import nolds\n",
    "\n",
    "import numpy as np\n",
    "from scipy.signal import argrelextrema, find_peaks\n",
    "from scipy.optimize import curve_fit\n",
    "import nolds\n",
    "\n",
    "import matplotlib.cm as cm\n",
    "import matplotlib.pyplot as plt\n",
    "from matplotlib.colors import Normalize, rgb2hex\n",
    "\n",
    "from mesa import Agent, Model\n",
    "from mesa.space import Grid\n",
    "from mesa.datacollection import DataCollector\n",
    "from mesa.time import SimultaneousActivation\n",
    "from mesa.visualization.modules import CanvasGrid, ChartModule\n",
    "from mesa.visualization.ModularVisualization import ModularServer\n",
    "from mesa.visualization.UserParam import UserSettableParameter"
   ]
  },
  {
   "cell_type": "markdown",
   "metadata": {},
   "source": [
    "# Helper functions\n",
    "Obtain the sum of the fractions across all FSM's in the CA."
   ]
  },
  {
   "cell_type": "code",
   "execution_count": 2,
   "metadata": {},
   "outputs": [],
   "source": [
    "def get_sus(model):\n",
    "    state = 0\n",
    "    for (contents, i, j) in model.grid.coord_iter():\n",
    "        state += contents.state[0]\n",
    "    return state\n",
    "\n",
    "def get_exp(model):\n",
    "    state = 0\n",
    "    for (contents, i, j) in model.grid.coord_iter():\n",
    "        state += contents.state[1]\n",
    "    return state\n",
    "\n",
    "def get_inf(model):\n",
    "    state = 0\n",
    "    for (contents, i, j) in model.grid.coord_iter():\n",
    "        state += contents.state[2]\n",
    "    return state\n",
    "\n",
    "def get_rec(model):\n",
    "    state = 0\n",
    "    for (contents, i, j) in model.grid.coord_iter():\n",
    "        state += contents.state[3]\n",
    "    return state"
   ]
  },
  {
   "cell_type": "markdown",
   "metadata": {},
   "source": [
    "# CA class\n",
    "* Set all parameters as \"global\" parameters, i.e., all FSMs have the same params.\n",
    "* Set a global time t (days)\n",
    "* Random give some FSMs a state $(0.8, 0, 0.2, 0)$ instead of $(1, 0, 0, 0)$"
   ]
  },
  {
   "cell_type": "code",
   "execution_count": null,
   "metadata": {},
   "outputs": [],
   "source": [
    "class CellularAutomaton(Model):\n",
    "    \n",
    "    def __init__(\n",
    "        self,\n",
    "        height = 30,\n",
    "        width = 30,\n",
    "        mu = 0.0005, # Birth rate\n",
    "        sig = 1/7,   # Rate of delay\n",
    "        gam = 1/14,  # Rate of recovery\n",
    "        c = 1/2,     # Connection factor between FSM\n",
    "        b0 = 0.25,   # Rate of infection\n",
    "        b1 = 0.2,    # Amplitude of seasonality of infection\n",
    "        dt = 0.001,\n",
    "        manual_init = False,    # Boolean, use if you want to specify initial conditions\n",
    "        init_coords = None, # array of 2-tuples (sort by first value of tuple) representing coordinates for which to specify conditions\n",
    "        init_states = None # array of same lentgh as coords with 4-tuples specifying SEIR proportions\n",
    "    ):\n",
    "        self.height = height\n",
    "        self.width = width\n",
    "        \n",
    "        self.mu = mu\n",
    "        self.b0 = b0\n",
    "        self.b1 = b1\n",
    "        self.sig = sig\n",
    "        self.gam = gam\n",
    "        self.c = c\n",
    "        \n",
    "        self.t = 0\n",
    "        self.dt = dt\n",
    "        self.manual_init = manual_init\n",
    "        self.init_coords = init_coords\n",
    "        self.init_states = init_states\n",
    "        \n",
    "        self.schedule = SimultaneousActivation(self)\n",
    "        self.grid = Grid(self.width, self.height, torus=True)\n",
    "\n",
    "        self.datacollector = DataCollector(\n",
    "            model_reporters =  {\n",
    "                \"sus\": get_sus,\n",
    "                \"exp\": get_exp,\n",
    "                \"inf\": get_inf,\n",
    "                \"rec\": get_rec\n",
    "                }\n",
    "            )\n",
    "        \n",
    "#         np.random.seed(0) # Get the same initial states\n",
    "        count = 0\n",
    "        \n",
    "        # sets initial states if defined\n",
    "        count = 0 # how many specified initial coordinates have been set\n",
    "        if self.manual_init:\n",
    "            for (contents, i, j) in self.grid.coord_iter():\n",
    "                FSM = FSM_SEIR((i, j), self)\n",
    "                if (i, j) in self.init_coords:\n",
    "                    FSM.state = self.init_states[count]\n",
    "                    count += 1\n",
    "                else:\n",
    "                    FSM.state = [0.0423, 0.003, 0.0021, 0.9704]\n",
    "                self.grid.place_agent(FSM, (i,j))\n",
    "                self.schedule.add(FSM)\n",
    "\n",
    "                \n",
    "        else:\n",
    "            for (contents, i, j) in self.grid.coord_iter():\n",
    "                FSM = FSM_SEIR((i,j), self)\n",
    "\n",
    "                if np.random.random() < 0.1:\n",
    "                    FSM.state = [0]*4\n",
    "                    FSM.state[0] = 0.8\n",
    "                    FSM.state[2] = 0.2\n",
    "\n",
    "                    count += 1\n",
    "                else:\n",
    "                    FSM.state = [0.0423, 0.003, 0.0021, 0.9704]\n",
    "                self.grid.place_agent(FSM, (i,j))\n",
    "                self.schedule.add(FSM)\n",
    "        \n",
    "        #print(f\"\\nR0 is approximately: {b0/(gam + mu)}.\")\n",
    "        #print(f\"There are {count} FSMs with infected.\")\n",
    "        \n",
    "        self.running = True\n",
    "        self.datacollector.collect(self)\n",
    "\n",
    "    def step(self):\n",
    "        self.t += 1\n",
    "        self.schedule.step()\n",
    "        self.datacollector.collect(self)\n",
    "\n",
    "    def run(self, n):\n",
    "        for _ in range(n):\n",
    "            self.step()"
   ]
  },
  {
   "cell_type": "markdown",
   "metadata": {},
   "source": [
    "# FSM class\n",
    "\n",
    "* States: $(S, I, E, R)$, where each of the attributes is a fraction of the form $\\frac{n}{10000}, \\quad n \\in \\mathbb{N}$. It follows that each FSM has $10001^4$ different states it can attain.\n",
    "* Transition function:\n",
    "$$ S_{i,j}^{t+1} = S_{i,j}^t - \\beta(t) S_{i,j}^tI_{i,j}^t - c\\beta(t)\\sum_{k,l} I_{k,l}^t S_{i,j}^t + \\mu (1 - S_{i,j}^t), $$\n",
    "$$ E_{i,j}^{t+1} = E_{i,j}^t + \\beta(t) S_{i,j}^tI_{i,j}^t + c\\beta(t)\\sum_{k,l} I_{k,l}^t S_{i,j}^t - \\sigma E_{i,j}^t - \\mu E_{i,j}^t,$$\n",
    "$$ I_{i,j}^{t+1} = I_{i,j}^t + \\sigma E_{i,j}^t - \\gamma  I_{i,j}^t - \\mu I_{i,j}^t, $$\n",
    "$$ R_{i,j}^{t+1} = R_{i,j}^t + \\gamma I_{i,j}^t - \\mu R_{i,j}^t, $$\n",
    "where $\\beta(t) = \\beta_0 (1 + \\beta_1\\cos(\\omega t))$."
   ]
  },
  {
   "cell_type": "code",
   "execution_count": 4,
   "metadata": {},
   "outputs": [],
   "source": [
    "# Stau, Etau, Itau, Rtau = self.state[self.model.tau-1,:]\n",
    "# + np.exp(- self.model.mu * self.model.tau) * (self.model.lam * Stau * Itau + sum([self.model.lam * self.model.m * x.state[self.model.tau-1,2] * Stau for x in neighbors]))\n",
    "# self._nextState[1:,:] = self.state[:self.model.tau-1,:]\n",
    "# self._nextState[0,:] = [S, E, I, R]"
   ]
  },
  {
   "cell_type": "code",
   "execution_count": 5,
   "metadata": {},
   "outputs": [],
   "source": [
    "class FSM_SEIR(Agent):\n",
    "    def __init__(self, pos, model):\n",
    "        super().__init__(pos, model)\n",
    "        self.x, self.y = pos\n",
    "\n",
    "        self.state = None\n",
    "        self._nextState = None\n",
    "        self.counter = 0\n",
    "\n",
    "    def step(self):\n",
    "        neighbors = self.model.grid.get_neighbors((self.x,self.y), True)\n",
    "        \n",
    "        S,E,I,R = self.state\n",
    "        \n",
    "        F = 2*np.pi/100 # Period of temporal forcing\n",
    "        omega = F\n",
    "        \n",
    "        beta = self.model.b0 * (1 + self.model.b1 * np.cos( omega * self.model.t))\n",
    "        \n",
    "        Snew = S + (- beta * S * I - sum([self.model.c * beta * x.state[2] * S for x in neighbors]) + self.model.mu * (1 - S)) * self.model.dt\n",
    "        Enew = E + (beta * S * I + sum([self.model.c * beta * x.state[2] * S for x in neighbors]) - E * self.model.sig - self.model.mu * E) * self.model.dt\n",
    "        Inew = I + (E * self.model.sig - I * self.model.gam - self.model.mu * I) * self.model.dt\n",
    "        Rnew = R + (I * self.model.gam - self.model.mu*R) * self.model.dt\n",
    "        \n",
    "        n = 4\n",
    "        \n",
    "        # Map to state space\n",
    "        S = Snew  #round(Snew, n)\n",
    "        E = Enew #round(Enew, n)\n",
    "        I = Inew #round(Inew, n)\n",
    "        R = Rnew #round(Rnew, n)\n",
    "        \n",
    "        self._nextState = [S, E, I, R]\n",
    "        \n",
    "    def advance(self):\n",
    "        self.state = self._nextState"
   ]
  },
  {
   "cell_type": "markdown",
   "metadata": {},
   "source": [
    "# Run model"
   ]
  },
  {
   "cell_type": "code",
   "execution_count": 6,
   "metadata": {
    "scrolled": true
   },
   "outputs": [
    {
     "data": {
      "text/plain": [
       "<AxesSubplot:>"
      ]
     },
     "execution_count": 6,
     "metadata": {},
     "output_type": "execute_result"
    },
    {
     "data": {
      "image/png": "[encoded data removed]",
      "text/plain": [
       "<Figure size 432x288 with 1 Axes>"
      ]
     },
     "metadata": {
      "needs_background": "light"
     },
     "output_type": "display_data"
    }
   ],
   "source": [
    "model = CellularAutomaton( \n",
    "        height = 3,\n",
    "        width = 3,\n",
    "        mu = 0.02/365,  # Birth rate\n",
    "        sig = 1/0.0279,   # Rate of delay\n",
    "        gam = 1/5,   # Rate of recovery\n",
    "        c = 1/2,     # Connection factor between FSM\n",
    "        b0 = 1,   # Rate of infection\n",
    "        b1 = .25,     # Amplitude of seasonality of infection\n",
    "        dt=0.001,\n",
    ")\n",
    "\n",
    "model.run(1000)\n",
    "    \n",
    "df = model.datacollector.get_model_vars_dataframe()\n",
    "df.plot()\n"
   ]
  },
  {
   "cell_type": "markdown",
   "metadata": {},
   "source": [
    "# Lyapunov exponent"
   ]
  },
  {
   "cell_type": "code",
   "execution_count": 66,
   "metadata": {
    "tags": []
   },
   "outputs": [
    {
     "name": "stdout",
     "output_type": "stream",
     "text": [
      "0\n"
     ]
    }
   ],
   "source": [
    "## settings which do not cause overflow\n",
    "#  mu = 0.0005,  # Birth rate\n",
    "#         sig = 1/8,   # Rate of delay\n",
    "#         gam = 1/5,   # Rate of recovery\n",
    "#         c = 1/2,     # Connection factor between FSM\n",
    "#         b0 = 1,   # Rate of infection\n",
    "#         b1 = .005,     # Amplitude of seasonality of infection\n",
    "\n",
    "ϵ = 0.001 # amount of peturbation\n",
    "height = 3\n",
    "width = 3\n",
    "mu = 0.02/365  # Birth rate\n",
    "sig = 1/8  # Rate of delay\n",
    "gam = 1/5 # Rate of recovery\n",
    "c = 1/2     # Connection factor between FSM\n",
    "b0 = 1   # Rate of infection\n",
    "b1 = 0.25  # Amplitude of seasonality of infection\n",
    "dt = 0.001\n",
    "m = 1   # number of times model is run with different initializations\n",
    "n = 50000   # number of timesteps for each model\n",
    "\n",
    "infected = np.zeros((m, n+1))\n",
    "infected_eps = np.zeros((m, n+1))\n",
    "\n",
    "for i in range(m):\n",
    "    print(i)\n",
    "    [S, E, I, R] = np.random.random(size=4)\n",
    "    \n",
    "    # make sure the sum equals 1 \n",
    "    [S, E, I, R] = [S, E, I, R] / np.sum([S, E, I, R])\n",
    "    \n",
    "    # model with random initial conditions\n",
    "    model = CellularAutomaton( \n",
    "            height = height, width = width, mu = mu, sig = sig, gam = gam, c= c, b0 = b0, b1 = b1,  \n",
    "            manual_init = True, init_coords = [(0,0)], init_states = [tuple([S, E, I, R])])\n",
    "    \n",
    "    # model with initial conditions + peturbation\n",
    "    # In theory I can now be larger than 1 but it is not very likely\n",
    "    model_eps = CellularAutomaton( \n",
    "            height = height, width = width, mu = mu, sig = sig, gam = gam, c= c, b0 = b0, b1 = b1,  \n",
    "            manual_init = True, init_coords = [(0, 0)], init_states = [tuple([abs(S-ϵ), E, I+ϵ, R])])\n",
    "\n",
    "    model.run(n)\n",
    "    model_eps.run(n)\n",
    "\n",
    "    df = model.datacollector.get_model_vars_dataframe()\n",
    "    df_eps = model_eps.datacollector.get_model_vars_dataframe()\n",
    "    \n",
    "    infected[i] = df['inf']\n",
    "    infected_eps[i] = df_eps['inf']"
   ]
  },
  {
   "cell_type": "code",
   "execution_count": 70,
   "metadata": {},
   "outputs": [],
   "source": [
    "from scipy.stats import linregress\n",
    "\n",
    "# when the initial spread has faded\n",
    "start = 20000\n",
    "time = np.arange(start, n+1, 1)\n",
    "\n",
    "def expf(n, λ):\n",
    "    # the exponential function (not used anymore)\n",
    "    global ϵ\n",
    "    return np.log(ϵ * np.exp(n* λ))\n",
    "\n",
    "def lyap(n, fn, fn_eps, ϵ):\n",
    "    # approximation of the lyapunov exponent from the slides (not used anymore)\n",
    "    return 1/n * np.log(np.abs((fn - fn_eps))/ϵ)\n",
    "\n",
    "# slopes, intercept, slope standard error\n",
    "fits = np.zeros((m, 3))\n",
    "\n",
    "# differences between f(x0) and f(x0 + eps)\n",
    "diffs = np.zeros((m, n+1-start))\n",
    "\n",
    "for i in range(m):\n",
    "\n",
    "    diffs[i] = np.log(np.abs(infected[i, start:]-infected_eps[i, start:]))\n",
    "\n",
    "    # linear regression\n",
    "    lin_fit = linregress(time, log_diff)\n",
    "    fits[i] = [lin_fit.slope, lin_fit.intercept, lin_fit.stderr]"
   ]
  },
  {
   "cell_type": "code",
   "execution_count": 75,
   "metadata": {},
   "outputs": [
    {
     "name": "stdout",
     "output_type": "stream",
     "text": [
      "0\n"
     ]
    },
    {
     "data": {
      "image/png": "[encoded data removed]",
      "text/plain": [
       "<Figure size 504x360 with 1 Axes>"
      ]
     },
     "metadata": {
      "needs_background": "light"
     },
     "output_type": "display_data"
    }
   ],
   "source": [
    "# find model index with highest lyapunov exponent\n",
    "max_slope = np.where(max(fits[0, :]))[0][0]\n",
    "print(max_slope)\n",
    "\n",
    "fig, ax = plt.subplots(1, 1, figsize=(7, 5))\n",
    "plt.plot(time, fits[max_slope, 0]*time + fits[max_slope, 1], label='$ln(\\epsilon) + n \\lambda$')\n",
    "plt.plot(time, (log_diff), 'k-', label=r'$ln|f(x_0+\\epsilon) - f(x_0)|$')\n",
    "# plt.plot(range(n+1), (expf(np.arange(0, n+1, 1), lyap_fit[0])), label=r'$\\varepsilon(n) \\approx \\varepsilon e^{n \\lambda}$')\n",
    "plt.legend(fontsize=15)\n",
    "plt.text(0.2, 0.3, rf'$\\lambda \\approx{round(fit2.slope, 5)}$', transform=ax.transAxes, fontsize=15)\n",
    "plt.xlabel('n')\n",
    "plt.savefig('lyapunov_fit.png', dpi=300)\n",
    "plt.show()"
   ]
  },
  {
   "cell_type": "code",
   "execution_count": 65,
   "metadata": {},
   "outputs": [
    {
     "name": "stdout",
     "output_type": "stream",
     "text": [
      "[-5.04621457e-05 -1.30116503e-04 -1.15293056e-04 -2.14871839e-01]\n"
     ]
    }
   ],
   "source": [
    "print(nolds.lyap_e(infected[max_slope, start:]))"
   ]
  },
  {
   "cell_type": "code",
   "execution_count": null,
   "metadata": {},
   "outputs": [],
   "source": [
    "print(avg_inf[:20])\n",
    "print(avg_inf_eps[:20])\n",
    "\n",
    "# print(log_diff[1], expf(np.arange(0, n+1, 1), lyap_fit[0])[0])\n",
    "\n",
    "# print(expf(np.arange(0, n+1, 1), lyap_fit[0])[-10:])\n",
    "# print(lyap_fit[0])\n",
    "# print(lyap(n+1, avg_inf[-1], avg_inf_eps[-1], ϵ))\n",
    "# print(nolds.lyap_e(avg_inf), nolds.lyap_r(avg_inf))"
   ]
  },
  {
   "cell_type": "markdown",
   "metadata": {},
   "source": [
    "# Find peaks of the final dynamics"
   ]
  },
  {
   "cell_type": "code",
   "execution_count": null,
   "metadata": {},
   "outputs": [],
   "source": [
    "T = 2000\n",
    "peaks, _ = find_peaks(df['inf'][T:].to_numpy())\n",
    "\n",
    "print(f\"Number of unique peaks: {len(df['inf'][peaks + T].unique())}\")\n",
    "\n",
    "plt.figure(figsize = (15, 12))\n",
    "plt.plot(range(len(df['inf'][T:])), df['inf'][T:])\n",
    "plt.scatter(peaks, df['inf'][T + peaks], color = 'r')\n",
    "plt.show()"
   ]
  },
  {
   "cell_type": "markdown",
   "metadata": {},
   "source": [
    "# Construct dict for bifucation diagram\n",
    "* Times updates with each iteration of the loop\n",
    "* For 20 different $b_1$, it takes about 2 hours"
   ]
  },
  {
   "cell_type": "code",
   "execution_count": null,
   "metadata": {
    "scrolled": true
   },
   "outputs": [],
   "source": [
    "betas = np.linspace(.1, .6, 1001)\n",
    "bifur = {}\n",
    "\n",
    "start = time()\n",
    "\n",
    "print(f\"Time passed since start:    {timedelta(seconds = 0)}\")\n",
    "print(f\"Estimate of remaining time: ??\")\n",
    "print(f\"Percentage completion:      {0}%\")\n",
    "\n",
    "for i,b1 in enumerate(betas):\n",
    "    clear_output(wait=True)\n",
    "    \n",
    "    model = CellularAutomaton( \n",
    "            height = 10,\n",
    "            width = 10,\n",
    "            mu = 0.0005,  # Birth rate\n",
    "            sig = 1/8,   # Rate of delay\n",
    "            gam = 1/5,   # Rate of recovery\n",
    "            c = 1/2,     # Connection factor between FSM\n",
    "            b0 = 1,   # Rate of infection\n",
    "            b1 = b1,     # Amplitude of seasonality of infection\n",
    "    )\n",
    "\n",
    "    model.run(3000)\n",
    "\n",
    "    df = model.datacollector.get_model_vars_dataframe()\n",
    "\n",
    "    T = 2000\n",
    "    peaks, _ = find_peaks(df['inf'][T:].to_numpy())\n",
    "    \n",
    "    bifur[b1] = df['inf'][T + peaks].unique()\n",
    "    \n",
    "    end = time()\n",
    "    print(f\"Time passed since start:    {timedelta(seconds = int(end - start))}\")\n",
    "    print(f\"Estimate of remaining time: {timedelta(seconds = int((end - start) / (i+1) * (len(betas) - i - 1)))  }\")\n",
    "    print(f\"Percentage completion:      {(i+1)/len(betas) * 100:.2f}%\")"
   ]
  },
  {
   "cell_type": "code",
   "execution_count": null,
   "metadata": {},
   "outputs": [],
   "source": [
    "for item in bifur:\n",
    "    plt.plot([item]*len(bifur[item]), (bifur[item]).tolist(), ls='', marker='.',color = 'k',)\n",
    "    \n",
    "plt.show()"
   ]
  },
  {
   "cell_type": "markdown",
   "metadata": {},
   "source": [
    "# Plot density of infected"
   ]
  },
  {
   "cell_type": "code",
   "execution_count": null,
   "metadata": {},
   "outputs": [],
   "source": []
  },
  {
   "cell_type": "code",
   "execution_count": null,
   "metadata": {},
   "outputs": [],
   "source": [
    "infected = np.zeros((30,30))\n",
    "for (content, i, j) in model.grid.coord_iter():\n",
    "    infected[i,j] = content.state[2]"
   ]
  },
  {
   "cell_type": "markdown",
   "metadata": {},
   "source": [
    "# Fourier Analysis"
   ]
  },
  {
   "cell_type": "code",
   "execution_count": null,
   "metadata": {
    "scrolled": true
   },
   "outputs": [],
   "source": [
    "infected = np.zeros((30,30))\n",
    "for (content, i, j) in model.grid.coord_iter():\n",
    "    if i==0:\n",
    "        print(i, j, content.state)\n",
    "    infected[i,j] = content.state[2]\n",
    "print(infected)"
   ]
  },
  {
   "cell_type": "markdown",
   "metadata": {},
   "source": [
    "# MESA server"
   ]
  },
  {
   "cell_type": "code",
   "execution_count": null,
   "metadata": {
    "scrolled": true
   },
   "outputs": [],
   "source": [
    "norm = Normalize(vmin=0, vmax = 0.5)\n",
    "cmap = cm.Greys\n",
    "m = cm.ScalarMappable(norm = norm, cmap = cmap)\n",
    "\n",
    "colordict = {}\n",
    "\n",
    "for i in np.linspace(0,1,10001):\n",
    "    k = round(10000*i)/10000\n",
    "    colordict[k] = rgb2hex(m.to_rgba(k))\n",
    "\n",
    "def portrayCell(fsm):\n",
    "    assert fsm is not None\n",
    "    \n",
    "    portrayal = {\n",
    "        \"Shape\": \"rect\",\n",
    "        \"w\":1,\n",
    "        \"h\":1,\n",
    "        \"Filled\": \"true\",\n",
    "        \"Layer\": 0,\n",
    "        \"x\": fsm.x,\n",
    "        \"y\": fsm.y\n",
    "    }\n",
    "    portrayal[\"Color\"] = colordict[fsm.state[2]]\n",
    "    \n",
    "    return portrayal\n",
    "\n",
    "chart = ChartModule(\n",
    "    [{\"Label\": \"sus\", \"Color\": \"#3776ab\"},\n",
    "     {\"Label\": \"exp\", \"Color\": '#ab3776'},\n",
    "     {\"Label\": \"inf\", \"Color\": \"#ab6b37\"}, \n",
    "     {\"Label\": \"rec\", \"Color\": \"#37ab6c\"}],\n",
    "     canvas_height=300, canvas_width=500\n",
    ")\n",
    "\n",
    "SIZE = 10\n",
    "\n",
    "canvas_element = CanvasGrid(portrayCell, SIZE, SIZE, 500, 500 )\n",
    "server = ModularServer(\n",
    "    CellularAutomaton, [canvas_element,chart], \"Epidemic\", {\"height\": SIZE, \n",
    "                                                            \"width\":SIZE,\n",
    "                                                            \"mu\": 0.0005, # Birth rate\n",
    "                                                            \"sig\": 1/8,   # Rate of delay\n",
    "                                                            \"gam\": 1/5,   # Rate of recovery\n",
    "                                                            \"c\": 1/2,     # Connection factor between FSM\n",
    "                                                            \"b0\": 1,      # Rate of infection\n",
    "                                                            \"b1\": UserSettableParameter(\"slider\", \"seasonality amplitude\", .2, 0.01, .8, 0.01)     # Amplitude of seasonality of infection\n",
    "                                                           }\n",
    "    )\n",
    "\n",
    "server.launch()"
   ]
  },
  {
   "cell_type": "code",
   "execution_count": null,
   "metadata": {},
   "outputs": [],
   "source": [
    "P=np.linspace(0.7,4,10000)\n",
    "m=0.7\n",
    "# Initialize your data containers identically\n",
    "X = []\n",
    "Y = []\n",
    "# l is never used, I removed it.\n",
    "for u in P:\n",
    "    # Add one value to X instead of resetting it.\n",
    "    X.append(u)\n",
    "    # Start with a random value of m instead of remaining stuck\n",
    "    # on a particular branch of the diagram\n",
    "    m = np.random.random()\n",
    "    for n in range(1001):\n",
    "        m=(u*m)*(1-m)\n",
    "    # The break is harmful here as it prevents completion of\n",
    "    # the loop and collection of data in Y \n",
    "    for l in range(1051):\n",
    "        m=(u*m)*(1-m)\n",
    "    # Collection of data in Y must be done once per value of u\n",
    "    Y.append(m)\n",
    "# Remove the line between successive data points, this renders\n",
    "# the plot illegible. Use a small marker instead.\n",
    "plt.plot(X, Y, ls='', marker=',')\n",
    "plt.show()"
   ]
  }
 ],
 "metadata": {
  "kernelspec": {
   "display_name": "Python 3",
   "language": "python",
   "name": "python3"
  },
  "language_info": {
   "codemirror_mode": {
    "name": "ipython",
    "version": 3
   },
   "file_extension": ".py",
   "mimetype": "text/x-python",
   "name": "python",
   "nbconvert_exporter": "python",
   "pygments_lexer": "ipython3",
   "version": "3.8.6"
  }
 },
 "nbformat": 4,
 "nbformat_minor": 4
}
