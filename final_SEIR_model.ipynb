{
 "cells": [
  {
   "cell_type": "markdown",
   "metadata": {},
   "source": [
    "# Modules"
   ]
  },
  {
   "cell_type": "code",
   "execution_count": 1,
   "metadata": {},
   "outputs": [],
   "source": [
    "from datetime import timedelta\n",
    "from IPython.display import clear_output\n",
    "import nolds\n",
    "\n",
    "import numpy as np\n",
    "from scipy.signal import argrelextrema, find_peaks\n",
    "from scipy.optimize import curve_fit\n",
    "import nolds\n",
    "\n",
    "import matplotlib.cm as cm\n",
    "import matplotlib.pyplot as plt\n",
    "from matplotlib.colors import Normalize, rgb2hex\n",
    "\n",
    "from mesa import Agent, Model\n",
    "from mesa.space import Grid\n",
    "from mesa.datacollection import DataCollector\n",
    "from mesa.time import SimultaneousActivation\n",
    "from mesa.visualization.modules import CanvasGrid, ChartModule\n",
    "from mesa.visualization.ModularVisualization import ModularServer\n",
    "from mesa.visualization.UserParam import UserSettableParameter"
   ]
  },
  {
   "cell_type": "markdown",
   "metadata": {},
   "source": [
    "# Helper functions\n",
    "\n",
    "Obtain the sum of the fractions across all FSM's in the CA."
   ]
  },
  {
   "cell_type": "code",
   "execution_count": 2,
   "metadata": {},
   "outputs": [],
   "source": [
    "def get_sus(model):\n",
    "    state = 0\n",
    "    for (contents, i, j) in model.grid.coord_iter():\n",
    "        state += contents.state[0]\n",
    "    return state\n",
    "\n",
    "def get_exp(model):\n",
    "    state = 0\n",
    "    for (contents, i, j) in model.grid.coord_iter():\n",
    "        state += contents.state[1]\n",
    "    return state\n",
    "\n",
    "def get_inf(model):\n",
    "    state = 0\n",
    "    for (contents, i, j) in model.grid.coord_iter():\n",
    "        state += contents.state[2]\n",
    "    return state\n",
    "\n",
    "def get_rec(model):\n",
    "    state = 0\n",
    "    for (contents, i, j) in model.grid.coord_iter():\n",
    "        state += contents.state[3]\n",
    "    return state"
   ]
  },
  {
   "cell_type": "markdown",
   "metadata": {},
   "source": [
    "# CA class\n",
    "* Set all parameters as \"global\" parameters, i.e., all FSMs have the same params.\n",
    "* Set a global time t (days)\n",
    "* Random give some FSMs a state $(0.8, 0, 0.2, 0)$ instead of $(1, 0, 0, 0)$"
   ]
  },
  {
   "cell_type": "code",
   "execution_count": 31,
   "metadata": {},
   "outputs": [],
   "source": [
    "class CellularAutomaton(Model):\n",
    "    \n",
    "    def __init__(\n",
    "        self,\n",
    "        height = 30,\n",
    "        width = 30,\n",
    "        mu = 0.0005, # Birth rate\n",
    "        sig = 1/7,   # Rate of delay\n",
    "        gam = 1/14,  # Rate of recovery\n",
    "        c = 1/2,     # Connection factor between FSM\n",
    "        b0 = 0.25,   # Rate of infection\n",
    "        b1 = 0.2,    # Amplitude of seasonality of infection\n",
    "        dt = 0.001,\n",
    "        manual_init = False,    # Boolean, use if you want to specify initial conditions\n",
    "        init_coords = None, # array of 2-tuples (sort by first value of tuple) representing coordinates for which to specify conditions\n",
    "        init_states = None, # array of same lentgh as coords with 4-tuples specifying SEIR proportions\n",
    "        n = 0 \n",
    "    ):\n",
    "        self.height = height\n",
    "        self.width = width\n",
    "        \n",
    "        self.mu = mu\n",
    "        self.b0 = b0\n",
    "        self.b1 = b1\n",
    "        self.sig = sig\n",
    "        self.gam = gam\n",
    "        self.c = c\n",
    "        self.n = n\n",
    "        \n",
    "        self.t = 0\n",
    "        self.dt = dt\n",
    "        self.manual_init = manual_init\n",
    "        self.init_coords = init_coords\n",
    "        self.init_states = init_states\n",
    "        \n",
    "        self.schedule = SimultaneousActivation(self)\n",
    "        self.grid = Grid(self.width, self.height, torus=True)\n",
    "\n",
    "        self.datacollector = DataCollector(\n",
    "            model_reporters =  {\n",
    "                \"sus\": get_sus,\n",
    "                \"exp\": get_exp,\n",
    "                \"inf\": get_inf,\n",
    "                \"rec\": get_rec\n",
    "                }\n",
    "            )\n",
    "        \n",
    "        count = 0\n",
    "        \n",
    "        # sets initial states if defined\n",
    "        count = 0 # how many specified initial coordinates have been set\n",
    "        if self.manual_init:\n",
    "            for (contents, i, j) in self.grid.coord_iter():\n",
    "                FSM = FSM_SEIR((i, j), self)\n",
    "                if (i, j) in self.init_coords:\n",
    "                    FSM.state = self.init_states[count]\n",
    "                    count += 1\n",
    "                else:\n",
    "                    FSM.state = [0.0423, 0.003, 0.0021, 0.9704]\n",
    "                self.grid.place_agent(FSM, (i,j))\n",
    "                self.schedule.add(FSM)\n",
    "\n",
    "                \n",
    "        else:\n",
    "            for (contents, i, j) in self.grid.coord_iter():\n",
    "                FSM = FSM_SEIR((i,j), self)\n",
    "\n",
    "                if np.random.random() < 0.1:\n",
    "                    FSM.state = [0]*4\n",
    "                    FSM.state[0] = 0.8\n",
    "                    FSM.state[2] = 0.2\n",
    "\n",
    "                    count += 1\n",
    "                else:\n",
    "                    FSM.state = [0.0423, 0.003, 0.0021, 0.9704]\n",
    "                self.grid.place_agent(FSM, (i,j))\n",
    "                self.schedule.add(FSM)\n",
    "        \n",
    "        self.running = True\n",
    "        self.datacollector.collect(self)\n",
    "\n",
    "    def step(self):\n",
    "        self.t += 1\n",
    "        self.schedule.step()\n",
    "        self.datacollector.collect(self)\n",
    "\n",
    "    def run(self, n):\n",
    "        for _ in range(n):\n",
    "            self.step()"
   ]
  },
  {
   "cell_type": "markdown",
   "metadata": {},
   "source": [
    "# FSM class\n",
    "\n",
    "* States: $(S, I, E, R)$, where each of the attributes is a fraction of the form $\\frac{n}{10^n}, \\quad n \\in \\mathbb{N}$. It follows that each FSM has $(10^n +1)^4$ different states it can attain.\n",
    "* Transition function:\n",
    "$$ S_{i,j}^{t+1} = S_{i,j}^t - \\beta(t) S_{i,j}^tI_{i,j}^t - c\\beta(t)\\sum_{k,l} I_{k,l}^t S_{i,j}^t + \\mu (1 - S_{i,j}^t), $$\n",
    "$$ E_{i,j}^{t+1} = E_{i,j}^t + \\beta(t) S_{i,j}^tI_{i,j}^t + c\\beta(t)\\sum_{k,l} I_{k,l}^t S_{i,j}^t - \\sigma E_{i,j}^t - \\mu E_{i,j}^t,$$\n",
    "$$ I_{i,j}^{t+1} = I_{i,j}^t + \\sigma E_{i,j}^t - \\gamma  I_{i,j}^t - \\mu * I_{i,j}^t, $$\n",
    "$$ R_{i,j}^{t+1} = R_{i,j}^t + \\gamma I_{i,j}^t - \\mu R_{i,j}^t, $$\n",
    "where $\\beta(t) = \\beta_0 (1 + \\beta_1\\cos(\\omega t))$."
   ]
  },
  {
   "cell_type": "code",
   "execution_count": 34,
   "metadata": {},
   "outputs": [],
   "source": [
    "class FSM_SEIR(Agent):\n",
    "    def __init__(self, pos, model):\n",
    "        super().__init__(pos, model)\n",
    "        self.x, self.y = pos\n",
    "\n",
    "        self.state = None\n",
    "        self._nextState = None\n",
    "        self.counter = 0\n",
    "\n",
    "    def step(self):\n",
    "        neighbors = self.model.grid.get_neighbors((self.x,self.y), True)\n",
    "        \n",
    "        S,E,I,R = self.state\n",
    "        \n",
    "        F = 2*np.pi/100 # Period of temporal forcing\n",
    "        omega = F\n",
    "        \n",
    "        beta = self.model.b0 * (1 + self.model.b1 * np.cos( omega * self.model.t))\n",
    "        \n",
    "        Snew = S + (- beta * S * I - sum([self.model.c * beta * x.state[2] * S for x in neighbors]) + self.model.mu * (1 - S)) * self.model.dt\n",
    "        Enew = E + (beta * S * I + sum([self.model.c * beta * x.state[2] * S for x in neighbors]) - E * self.model.sig - self.model.mu * E) * self.model.dt\n",
    "        Inew = I + (E * self.model.sig - I * self.model.gam - self.model.mu * I) * self.model.dt\n",
    "        Rnew = R + (I * self.model.gam - self.model.mu*R) * self.model.dt\n",
    "        \n",
    "        # Map to state space\n",
    "        n = self.model.n\n",
    "        if n == 0:\n",
    "            S = Snew\n",
    "            E = Enew\n",
    "            I = Inew\n",
    "            R = Rnew\n",
    "        else:\n",
    "            S = round(Snew, n)\n",
    "            E = round(Enew, n)\n",
    "            I = round(Inew, n)\n",
    "            R = round(Rnew, n)\n",
    "        \n",
    "        self._nextState = [S, E, I, R]\n",
    "        \n",
    "    def advance(self):\n",
    "        self.state = self._nextState"
   ]
  },
  {
   "cell_type": "code",
   "execution_count": 35,
   "metadata": {},
   "outputs": [
    {
     "data": {
      "image/png": "[encoded data removed]",
      "text/plain": [
       "<Figure size 432x288 with 1 Axes>"
      ]
     },
     "metadata": {
      "needs_background": "light"
     },
     "output_type": "display_data"
    },
    {
     "data": {
      "image/png": "[encoded data removed]",
      "text/plain": [
       "<Figure size 432x288 with 1 Axes>"
      ]
     },
     "metadata": {
      "needs_background": "light"
     },
     "output_type": "display_data"
    }
   ],
   "source": [
    "model = CellularAutomaton( \n",
    "        height = 3,\n",
    "        width = 3,\n",
    "        mu = 0.02/365, # Birth rate\n",
    "        sig = 1/8,     # Rate of delay\n",
    "        gam = 1/5,     # Rate of recovery\n",
    "        c = 1/2,       # Connection factor between FSM\n",
    "        b0 = 1,        # Rate of infection\n",
    "        b1 = 0.2       # Amplitude of seasonality of infection\n",
    " # FSN states parameter, n=0 equals machine precision states        \n",
    "        )\n",
    "\n",
    "model.run(100*365)\n",
    "\n",
    "df = model.datacollector.get_model_vars_dataframe()\n",
    "df['inf'].plot()\n",
    "plt.show()\n",
    "\n",
    "ax = plt.axes(projection='3d')\n",
    "ax.plot3D(df['sus'], df['rec'], df['inf'])\n",
    "ax.set_xlabel('sus')\n",
    "ax.set_ylabel('rec')\n",
    "ax.set_zlabel('inf')\n",
    "plt.show()"
   ]
  },
  {
   "cell_type": "code",
   "execution_count": null,
   "metadata": {},
   "outputs": [],
   "source": [
    "# Lyapunov exponent"
   ]
  },
  {
   "cell_type": "code",
   "execution_count": 36,
   "metadata": {},
   "outputs": [
    {
     "name": "stdout",
     "output_type": "stream",
     "text": [
      "0\n",
      "1\n"
     ]
    }
   ],
   "source": [
    "ϵ = 0.001 # amount of peturbation\n",
    "height = 3\n",
    "width = 3\n",
    "mu = 0.02/365  # Birth rate\n",
    "sig = 1/8  # Rate of delay\n",
    "gam = 1/5 # Rate of recovery\n",
    "c = 1/2     # Connection factor between FSM\n",
    "b0 = 1   # Rate of infection\n",
    "b1 = 0.25  # Amplitude of seasonality of infection\n",
    "dt = 0.001\n",
    "m = 100  # number of times model is run with different initializations\n",
    "n = 50000   # number of timesteps for each model\n",
    "\n",
    "# store trajectories of two close initial conditions\n",
    "infected = np.zeros((m, n+1))\n",
    "infected_eps = np.zeros((m, n+1))\n",
    "\n",
    "for i in range(m):\n",
    "    print(i)\n",
    "    [S, E, I, R] = np.random.random(size=4)\n",
    "    \n",
    "    # make sure the sum equals 1 \n",
    "    [S, E, I, R] = [S, E, I, R] / np.sum([S, E, I, R])\n",
    "    \n",
    "    # model with random initial conditions\n",
    "    model = CellularAutomaton( \n",
    "            height = height, width = width, mu = mu, sig = sig, gam = gam, c= c, b0 = b0, b1 = b1,  \n",
    "            dt=dt, manual_init = True, init_coords = [(0,0)], init_states = [tuple([S, E, I, R])])\n",
    "    \n",
    "    # model with initial conditions + peturbation\n",
    "    model_eps = CellularAutomaton( \n",
    "            height = height, width = width, mu = mu, sig = sig, gam = gam, c= c, b0 = b0, b1 = b1,  \n",
    "            dt=dt, manual_init = True, init_coords = [(0, 0)], init_states = [tuple([abs(S-ϵ), E, I+ϵ, R])])\n",
    "\n",
    "    model.run(n)\n",
    "    model_eps.run(n)\n",
    "\n",
    "    df = model.datacollector.get_model_vars_dataframe()\n",
    "    df_eps = model_eps.datacollector.get_model_vars_dataframe()\n",
    "    \n",
    "    infected[i] = df['inf']\n",
    "    infected_eps[i] = df_eps['inf']"
   ]
  },
  {
   "cell_type": "code",
   "execution_count": 37,
   "metadata": {},
   "outputs": [],
   "source": [
    "from scipy.stats import linregress\n",
    "\n",
    "# start when the initial spread has faded\n",
    "start = 20000\n",
    "time = np.arange(start, n+1, 1)\n",
    "\n",
    "# slopes, intercept, slope standard error\n",
    "fits = np.zeros((m, 3))\n",
    "\n",
    "# differences between f(x0) and f(x0 + eps)\n",
    "diffs = np.zeros((m, n+1-start))\n",
    "\n",
    "for i in range(m):\n",
    "\n",
    "    diffs[i] = np.log(np.abs(infected[i, start:]-infected_eps[i, start:]))\n",
    "\n",
    "    # linear regression\n",
    "    lin_fit = linregress(time, diffs[i])\n",
    "    fits[i] = [lin_fit.slope, lin_fit.intercept, lin_fit.stderr]"
   ]
  },
  {
   "cell_type": "code",
   "execution_count": 30,
   "metadata": {},
   "outputs": [
    {
     "data": {
      "image/png": "[encoded data removed]",
      "text/plain": [
       "<Figure size 504x360 with 1 Axes>"
      ]
     },
     "metadata": {
      "needs_background": "light"
     },
     "output_type": "display_data"
    }
   ],
   "source": [
    "# find model index with highest lyapunov exponent\n",
    "max_slope = 0 #np.where(max(fits[0, :]))[0][0]\n",
    "\n",
    "fig, ax = plt.subplots(1, 1, figsize=(7, 5))\n",
    "plt.plot(time, fits[max_slope, 0]*time + fits[max_slope, 1], label='$ln(\\epsilon) + n \\lambda$')\n",
    "plt.plot(time, (diffs[max_slope]), 'k-', label=r'$ln|f(x_0+\\epsilon) - f(x_0)|$')\n",
    "plt.legend(fontsize=15)\n",
    "plt.text(0.2, 0.3, rf'$\\lambda \\approx{round(fits[max_slope, 0], 5)} \\pm {round(fits[max_slope, 2], 8)}$', transform=ax.transAxes, fontsize=15)\n",
    "plt.xlabel('n')\n",
    "plt.savefig('lyapunov_fit.png', dpi=300)\n",
    "plt.show()"
   ]
  },
  {
   "cell_type": "code",
   "execution_count": null,
   "metadata": {},
   "outputs": [],
   "source": [
    "# lyapunov exponents using nolds library\n",
    "print(nolds.lyap_e(infected[max_slope, start:]), nolds.lyap_r(infected[max_slope, start:]))"
   ]
  },
  {
   "cell_type": "markdown",
   "metadata": {},
   "source": [
    "# Lyapunov exponents based on amplitude $(\\beta_1)$"
   ]
  },
  {
   "cell_type": "code",
   "execution_count": null,
   "metadata": {},
   "outputs": [],
   "source": [
    "betas = np.linspace(0, 1, 10)\n",
    "\n",
    "for i in range(len(betas)):\n",
    "    print(i)\n",
    "    [S, E, I, R] = np.random.random(size=4)\n",
    "    \n",
    "    # make sure the sum equals 1 \n",
    "    [S, E, I, R] = [S, E, I, R] / np.sum([S, E, I, R])\n",
    "    \n",
    "    # model with random initial conditions\n",
    "    model = CellularAutomaton( \n",
    "            height = height, width = width, mu = mu, sig = sig, gam = gam, c= c, b0 = b0, b1 = b1,  \n",
    "            dt=dt, manual_init = True, init_coords = [(0,0)], init_states = [tuple([S, E, I, R])])\n",
    "    \n",
    "    # model with initial conditions + peturbation\n",
    "    model_eps = CellularAutomaton( \n",
    "            height = height, width = width, mu = mu, sig = sig, gam = gam, c= c, b0 = b0, b1 = b1,  \n",
    "            dt=dt, manual_init = True, init_coords = [(0, 0)], init_states = [tuple([abs(S-ϵ), E, I+ϵ, R])])\n",
    "\n",
    "    model.run(n)\n",
    "    model_eps.run(n)\n",
    "\n",
    "    df = model.datacollector.get_model_vars_dataframe()\n",
    "    df_eps = model_eps.datacollector.get_model_vars_dataframe()\n",
    "    \n",
    "    infected[i] = df['inf']\n",
    "    infected_eps[i] = df_eps['inf']"
   ]
  },
  {
   "cell_type": "code",
   "execution_count": null,
   "metadata": {},
   "outputs": [],
   "source": [
    "# slopes, intercept, slope standard error\n",
    "fits = np.zeros((m, 3))\n",
    "\n",
    "# differences between f(x0) and f(x0 + eps)\n",
    "diffs = np.zeros((len(betas), n+1-start))\n",
    "\n",
    "lyap_exps = np.zeros(len(betas))\n",
    "\n",
    "for i in range(len(betas)):\n",
    "\n",
    "    diffs[i] = np.log(np.abs(infected[i, start:]-infected_eps[i, start:]))\n",
    "\n",
    "    # linear regression\n",
    "    lin_fit = linregress(time, diffs[i])\n",
    "    lyap_exps[i] = lin_fit.slope"
   ]
  },
  {
   "cell_type": "code",
   "execution_count": null,
   "metadata": {},
   "outputs": [],
   "source": [
    "plt.plot(betas, lyap_exps)\n",
    "plt.ylabel(r'$\\lambda$')\n",
    "plt.xlabel(r'$\\beta_1$')\n",
    "plt.show()\n",
    "print(lyap_exps)"
   ]
  },
  {
   "cell_type": "markdown",
   "metadata": {},
   "source": [
    "# Bifurcation diagram"
   ]
  },
  {
   "cell_type": "code",
   "execution_count": null,
   "metadata": {},
   "outputs": [
    {
     "data": {
      "image/png": "[encoded data removed]",
      "text/plain": [
       "<Figure size 432x288 with 1 Axes>"
      ]
     },
     "metadata": {
      "needs_background": "light"
     },
     "output_type": "display_data"
    },
    {
     "data": {
      "image/png": "[encoded data removed]",
      "text/plain": [
       "<Figure size 432x288 with 1 Axes>"
      ]
     },
     "metadata": {
      "needs_background": "light"
     },
     "output_type": "display_data"
    },
    {
     "name": "stdout",
     "output_type": "stream",
     "text": [
      "min remaining: 346.36\n",
      "b1:  0.0265\n"
     ]
    }
   ],
   "source": [
    "# iterate over b1 values and create plots per model run\n",
    "import time\n",
    "\n",
    "b1_vals = []\n",
    "b1_infs = []\n",
    "\n",
    "start_time = time.time()\n",
    "b1_iter = np.arange(0, 0.3, 0.0005) # b1 values to create bifurcation diagram for\n",
    "for i, b1 in enumerate(b1_iter):\n",
    "    \n",
    "    print(\"b1: \", b1)\n",
    "    \n",
    "    # set model params\n",
    "    model = CellularAutomaton( \n",
    "            height = 3,\n",
    "            width = 3,\n",
    "            mu = 0.02/365, # Birth rate\n",
    "            sig = 1/8,     # Rate of delay\n",
    "            gam = 1/5,     # Rate of recovery\n",
    "            c = 1/2,       # Connection factor between FSM\n",
    "            b0 = 1,        # Rate of infection\n",
    "            b1 = b1,       # Amplitude of seasonality of infection\n",
    "            n = 0          # FSN states parameter, n=0 equals machine precision states\n",
    "                             )\n",
    "\n",
    "    model.run(100*365)\n",
    "\n",
    "    # collect data\n",
    "    df = model.datacollector.get_model_vars_dataframe()\n",
    "    Infected = df['inf'].tolist()[75*365:] # collect infecteds data from 75-100 years\n",
    "    \n",
    "    # find peaks\n",
    "    peaks, _ = find_peaks(Infected)\n",
    "    infs = list(set([Infected[peak] for peak in peaks]))\n",
    "    for inf in infs:\n",
    "        b1_vals.append(b1)\n",
    "        b1_infs.append(inf)\n",
    "\n",
    "    # find troughs\n",
    "    troughs, _ = find_peaks([-1*inf for inf in Infected])\n",
    "    infs = list(set([Infected[trough] for trough in troughs]))\n",
    "    for inf in infs:\n",
    "        b1_vals.append(b1)\n",
    "        b1_infs.append(inf)\n",
    "    \n",
    "    # if no peak or through then no oscillations in infecteds\n",
    "    # thus add infecteds stable value\n",
    "    if len(peaks) == 0 and len(troughs) ==0:\n",
    "        b1_vals.append(b1)\n",
    "        b1_infs.append(Infected[-1])\n",
    "    \n",
    "    # plot progress\n",
    "    clear_output()\n",
    "\n",
    "    for trough in set(troughs):\n",
    "        plt.axvline(trough, c='g')\n",
    "        plt.plot(trough, Infected[trough], 'o', c='g')\n",
    "    for peak in set(peaks):\n",
    "        plt.axvline(peak, c='r')\n",
    "        plt.plot(peak, Infected[peak], 'o', c='r')\n",
    "    plt.plot(Infected)\n",
    "    plt.show()\n",
    "\n",
    "    plt.scatter(b1_vals, [np.log(inf) for inf in b1_infs], marker='.', c='k', s=2)\n",
    "    plt.xlabel(\"B1\")\n",
    "    plt.ylabel(\"ln(Infecteds)\")\n",
    "    plt.show()\n",
    "    \n",
    "    print(\"min remaining:\", round((time.time() - start_time)/(i+1)*(len(b1_iter) - (i+1))/60, 2))"
   ]
  },
  {
   "cell_type": "code",
   "execution_count": null,
   "metadata": {},
   "outputs": [],
   "source": [
    "# create final bifurcation diagram\n",
    "\n",
    "# b1 values for oscillatory infected plots and corresponding \n",
    "# axvlines in bifurcation diagram\n",
    "slices = [0.10, 0.205, 0.27] \n",
    "\n",
    "plt.figure(figsize=(12, 3), dpi=200)\n",
    "plt.scatter(b1_vals, [np.log(inf) for inf in b1_infs], c='k', marker='.', s=1)\n",
    "plt.xlabel(\"B1\")\n",
    "plt.ylabel(\"ln(Infecteds)\")\n",
    "for B1 in slices:\n",
    "    plt.axvline(B1, c='k', ls='--')\n",
    "plt.show()"
   ]
  },
  {
   "cell_type": "code",
   "execution_count": null,
   "metadata": {},
   "outputs": [],
   "source": [
    "# create plots for the b1 slice values from the bifurcation diagram\n",
    "\n",
    "for b1 in slices:\n",
    "    \n",
    "    # set model params\n",
    "    model = CellularAutomaton( \n",
    "            height = 3,\n",
    "            width = 3,\n",
    "            mu = 0.02/365, # Birth rate\n",
    "            sig = 1/8,     # Rate of delay\n",
    "            gam = 1/5,     # Rate of recovery\n",
    "            c = 1/2,       # Connection factor between FSM\n",
    "            b0 = 1,        # Rate of infection\n",
    "            b1 = b1,       # Amplitude of seasonality of infection\n",
    "            n = 0          # FSN states parameter, n=0 equals machine precision states\n",
    "                             )\n",
    "\n",
    "    # run model for 100 years\n",
    "    model.run(100*365)\n",
    "\n",
    "    # collect data\n",
    "    df = model.datacollector.get_model_vars_dataframe()\n",
    "    Infected = df['inf'].tolist()[75*365:]\n",
    "    \n",
    "    # find peaks\n",
    "    peaks, _ = find_peaks(Infected)\n",
    "\n",
    "    # find troughs\n",
    "    troughs, _ = find_peaks([-1*inf for inf in Infected])\n",
    "\n",
    "    # create plots\n",
    "    plt.figure(figsize=(4, 3), dpi=200)\n",
    "    for trough in set(troughs):\n",
    "        plt.plot(trough, np.log(Infected[trough]), 'o', c='k')\n",
    "    for peak in set(peaks):\n",
    "        plt.plot(peak, np.log(Infected[peak]), 'o', c='k')\n",
    "    plt.plot([np.log(inf) for inf in Infected], label=f'{b1}', c='k')\n",
    "    plt.ylabel(\"ln(Infecteds)\")\n",
    "    plt.xlabel(\"time in days, range(75-100 years)\")\n",
    "    plt.show()"
   ]
  },
  {
   "cell_type": "code",
   "execution_count": null,
   "metadata": {},
   "outputs": [],
   "source": [
    "ϵ = 0.001 # amount of peturbation\n",
    "height = 3\n",
    "width = 3\n",
    "mu = 0.02/365  # Birth rate\n",
    "sig = 1/8  # Rate of delay\n",
    "gam = 1/5 # Rate of recovery\n",
    "c = 1/2     # Connection factor between FSM\n",
    "b0 = 1   # Rate of infection\n",
    "b1 = 0.25  # Amplitude of seasonality of infection\n",
    "dt = 0.001 # timestep\n",
    "m = 2 # number of times model is run with different initializations\n",
    "n = 50000   # number of timesteps for each model\n",
    "\n",
    "infected = np.zeros((m, n+1))\n",
    "infected_eps = np.zeros((m, n+1))\n",
    "\n",
    "for i in range(m):\n",
    "    print(i)\n",
    "    \n",
    "    # initial conditions\n",
    "    [S, E, I, R] = np.random.random(size=4)   \n",
    "    # make sure the sum equals 1 \n",
    "    [S, E, I, R] = [S, E, I, R] / np.sum([S, E, I, R])\n",
    "    \n",
    "    # model with random initial conditions\n",
    "    model = CellularAutomaton( \n",
    "            height = height, width = width, mu = mu, sig = sig, gam = gam, c= c, b0 = b0, b1 = b1,  \n",
    "            manual_init = False, init_coords = [(0,0)], init_states = [tuple([S, E, I, R])])\n",
    "    \n",
    "    # model with initial conditions + peturbation\n",
    "    # In theory I can now be larger than 1 but it is not very likely\n",
    "    model_eps = CellularAutomaton( \n",
    "            height = height, width = width, mu = mu, sig = sig, gam = gam, c= c, b0 = b0, b1 = b1,  \n",
    "            manual_init = False, init_coords = [(0, 0)], init_states = [tuple([abs(S-ϵ), E, I+ϵ, R])])\n",
    "\n",
    "    model.run(n)\n",
    "    model_eps.run(n)\n",
    "\n",
    "    df = model.datacollector.get_model_vars_dataframe()\n",
    "    df_eps = model_eps.datacollector.get_model_vars_dataframe()\n",
    "    \n",
    "    infected[i] = df['inf']\n",
    "    infected_eps[i] = df_eps['inf']"
   ]
  },
  {
   "cell_type": "markdown",
   "metadata": {},
   "source": [
    "# CA infecteds over time: animated"
   ]
  },
  {
   "cell_type": "code",
   "execution_count": null,
   "metadata": {},
   "outputs": [],
   "source": [
    "frameskip = 10 # how many frames/days to skip between frames\n",
    "\n",
    "# init plot\n",
    "fig = plt.figure(figsize = (15,15))\n",
    "ax = plt.axes()\n",
    "\n",
    "max_inf = np.max([df[\"CA_inf\"][i].max() for i in range(len(df))]) # max infecteds to scale colors accordingly\n",
    "a=np.zeros(df[\"CA_inf\"][0].shape)\n",
    "im=plt.imshow(a,interpolation='none', vmin=0, vmax=max_inf, cmap = 'hot')\n",
    "\n",
    "def animate(i):\n",
    "    im.set_array(df[\"CA_inf\"][i*(frameskip + 1)])\n",
    "    ax.set_title(f\"t={i*(frameskip + 1)}\", fontsize=50)\n",
    "    return [im]\n",
    "\n",
    "plt.axis('off')\n",
    "for item in [fig, ax]:\n",
    "    item.patch.set_visible(False)\n",
    "plt.colorbar()\n",
    "\n",
    "anim = FuncAnimation(fig, animate, frames=int(len(df)/(frameskip + 1)), interval=50*(frameskip + 1), blit=True) \n",
    "anim.save('CA_ani.gif')\n",
    "plt.clf()\n",
    "\n",
    "# show animated plot in notebook\n",
    "# random argument to work around browser cache\n",
    "rand = np.random.random()\n",
    "HTML(f'<img src=\"CA_ani.gif?{rand}\">')"
   ]
  },
  {
   "cell_type": "markdown",
   "metadata": {},
   "source": [
    "# Convergence of infecteds cell state differences"
   ]
  },
  {
   "cell_type": "code",
   "execution_count": null,
   "metadata": {},
   "outputs": [],
   "source": [
    "plt.plot([df[\"CA_inf\"][i].std() for i in range(len(df))][:20000], c=\"k\", linewidth=0.5)\n",
    "plt.xlabel(\"time in days\")\n",
    "plt.ylabel(\"Infecteds standard deviation\")\n",
    "plt.yscale(\"log\")\n",
    "plt.show()\n",
    "\n",
    "plt.plot(df[\"inf\"][:20000], c=\"k\", linewidth=0.5)\n",
    "plt.xlabel(\"time in days\")\n",
    "plt.ylabel(\"Infecteds\")\n",
    "plt.show()"
   ]
  },
  {
   "cell_type": "markdown",
   "metadata": {},
   "source": [
    "# MESA server"
   ]
  },
  {
   "cell_type": "code",
   "execution_count": null,
   "metadata": {},
   "outputs": [],
   "source": [
    "norm = Normalize(vmin=0, vmax = 0.5)\n",
    "cmap = cm.Greys\n",
    "m = cm.ScalarMappable(norm = norm, cmap = cmap)\n",
    "\n",
    "colordict = {}\n",
    "\n",
    "for i in np.linspace(0,1,10001):\n",
    "    k = round(10000*i)/10000\n",
    "    colordict[k] = rgb2hex(m.to_rgba(k))\n",
    "\n",
    "def portrayCell(fsm):\n",
    "    assert fsm is not None\n",
    "    \n",
    "    portrayal = {\n",
    "        \"Shape\": \"rect\",\n",
    "        \"w\":1,\n",
    "        \"h\":1,\n",
    "        \"Filled\": \"true\",\n",
    "        \"Layer\": 0,\n",
    "        \"x\": fsm.x,\n",
    "        \"y\": fsm.y\n",
    "    }\n",
    "    portrayal[\"Color\"] = colordict[fsm.state[2]]\n",
    "    \n",
    "    return portrayal\n",
    "\n",
    "chart = ChartModule(\n",
    "    [{\"Label\": \"sus\", \"Color\": \"#3776ab\"},\n",
    "     {\"Label\": \"exp\", \"Color\": '#ab3776'},\n",
    "     {\"Label\": \"inf\", \"Color\": \"#ab6b37\"}, \n",
    "     {\"Label\": \"rec\", \"Color\": \"#37ab6c\"}],\n",
    "     canvas_height=300, canvas_width=500\n",
    ")\n",
    "\n",
    "SIZE = 50\n",
    "\n",
    "canvas_element = CanvasGrid(portrayCell, SIZE, SIZE, 500, 500 )\n",
    "server = ModularServer(\n",
    "    CellularAutomaton, [canvas_element,chart], \"Epidemic\", {\"height\": SIZE, \n",
    "                                                            \"width\":SIZE,\n",
    "                                                            \"mu\": 0.0005, # Birth rate\n",
    "                                                            \"sig\": 1/8,   # Rate of delay\n",
    "                                                            \"gam\": 1/5,   # Rate of recovery\n",
    "                                                            \"c\": 1/2,     # Connection factor between FSM\n",
    "                                                            \"b0\": 1,      # Rate of infection\n",
    "                                                            \"b1\": 0.2     # Amplitude of seasonality of infection\n",
    "                                                           }\n",
    "    )\n",
    "\n",
    "server.launch()"
   ]
  }
 ],
 "metadata": {
  "kernelspec": {
   "display_name": "Python 3",
   "language": "python",
   "name": "python3"
  },
  "language_info": {
   "codemirror_mode": {
    "name": "ipython",
    "version": 3
   },
   "file_extension": ".py",
   "mimetype": "text/x-python",
   "name": "python",
   "nbconvert_exporter": "python",
   "pygments_lexer": "ipython3",
   "version": "3.8.6"
  }
 },
 "nbformat": 4,
 "nbformat_minor": 4
}
